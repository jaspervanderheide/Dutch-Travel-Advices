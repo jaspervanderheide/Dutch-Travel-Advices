{
 "cells": [
  {
   "cell_type": "code",
   "execution_count": null,
   "metadata": {
    "ExecuteTime": {
     "start_time": "2020-03-17T21:07:59.775Z"
    }
   },
   "outputs": [],
   "source": [
    "import geopandas as gpd\n",
    "import matplotlib.pyplot as plt\n",
    "import pandas as pd\n",
    "from tqdm.notebook import tqdm\n",
    "import os\n",
    "import numpy as np\n",
    "from pygifsicle import optimize\n",
    "import imageio\n",
    "from __future__ import print_function\n",
    "from ipywidgets import interact, interactive, fixed, interact_manual\n",
    "import ipywidgets as widgets\n",
    "import warnings\n",
    "\n",
    "warnings.filterwarnings(\"ignore\")\n",
    "pd.set_option(\"display.max_rows\", 200)\n",
    "\n",
    "from matplotlib.lines import Line2D"
   ]
  },
  {
   "cell_type": "code",
   "execution_count": null,
   "metadata": {
    "ExecuteTime": {
     "start_time": "2020-03-17T21:07:59.786Z"
    },
    "scrolled": true
   },
   "outputs": [],
   "source": [
    "## Download the three shapefiles\n",
    "geo_df= gpd.read_file(\"shapefiles/ne_10m_admin_1_states_provinces.shp\")\n",
    "geo_df2 = gpd.read_file(\"shapefiles/ne_10m_admin_0_disputed_areas.shp\")\n",
    "cities_df= gpd.read_file(\"shapefiles/ne_10m_populated_places.shp\")\n",
    "\n",
    "## Lower names of columns\n",
    "geo_df2.columns = [x.lower() for x in geo_df2.columns]\n",
    "cities_df.columns = [x.lower() for x in cities_df.columns]\n",
    "\n",
    "## Add a column to seperate cities from regions\n",
    "cities_df['city'] = True\n",
    "geo_df2['city'] = \"\"\n",
    "geo_df['city'] = \"\"\n",
    "\n",
    "## Concat the columns together\n",
    "geo_df = pd.concat([geo_df,geo_df2,cities_df])\n",
    "\n",
    "geo_df =  geo_df[['iso_a2','name','geometry','name_en', 'adm1_code','iso_3166_2','city']]\n",
    "geo_df[['name_en',\"adm1_code\",\"iso_3166_2\"]] = geo_df[['name_en',\"adm1_code\",\"iso_3166_2\"]].fillna(\"\")\n",
    "manual_df = pd.read_excel('datafile.xlsx',keep_default_na=False)\n",
    "geo_df = geo_df.merge(manual_df, on=['iso_a2','name','name_en', 'adm1_code','iso_3166_2','city'],how='right')\n",
    "date_cols = sorted(set(geo_df.columns) - {'iso_a2','name','name_en', 'adm1_code','iso_3166_2','geometry','city'})\n",
    "geo_df.head()\n",
    "geo_df[geo_df.geometry==None]"
   ]
  },
  {
   "cell_type": "code",
   "execution_count": null,
   "metadata": {
    "ExecuteTime": {
     "start_time": "2020-03-17T21:07:59.792Z"
    }
   },
   "outputs": [],
   "source": [
    "colors = ['green','yellow','orange','red']\n",
    "colors_and_grey = colors+['grey']\n",
    "unknown = \"grey\"\n",
    "city_marker_size = 0.3"
   ]
  },
  {
   "cell_type": "code",
   "execution_count": null,
   "metadata": {
    "ExecuteTime": {
     "start_time": "2020-03-17T21:07:59.809Z"
    }
   },
   "outputs": [],
   "source": [
    "def create_world_map(datenr,show_plot,dpi=100):\n",
    "    column_name = date_cols[datenr-1]\n",
    "    fig, ax = plt.subplots(figsize=(30,9))\n",
    "    \n",
    "    normal_df = geo_df[(geo_df['iso_a2']!=\"-99\") & (geo_df['city']==\"\") & (geo_df[column_name].isin(colors_and_grey))]\n",
    "    normal_df.plot(color=normal_df[column_name],ax=ax,legend=True,edgecolor='grey',linewidth=0.05)\n",
    "    \n",
    "    disputed_df = geo_df[(geo_df['iso_a2']==\"-99\") & (geo_df['city']==\"\") & (geo_df[column_name].isin(colors_and_grey))]\n",
    "    disputed_df.plot(color=disputed_df[column_name],ax=ax,legend=True,edgecolor='grey',linewidth=0.05)\n",
    "\n",
    "    cities_df = geo_df[(geo_df['city']==True) & (geo_df[column_name].isin(colors))]\n",
    "    cities_df.plot(color=cities_df[column_name],ax=ax, legend=True,marker='o',markersize=city_marker_size)    \n",
    "\n",
    "\n",
    "    legend_elements = [Line2D([0], [0], marker='o', color='green', label=\"No special security risks\",markerfacecolor='g', markersize=15),\n",
    "                      Line2D([0], [0], marker='o', color='yellow', label=\"Watch out, security risks\",markerfacecolor='yellow', markersize=15),\n",
    "                      Line2D([0], [0], marker='o', color='orange', label=\"Only necessary travels\",markerfacecolor='orange', markersize=15),\n",
    "                      Line2D([0], [0], marker='o', color='red', label=\"Don't travel\",markerfacecolor='r', markersize=15)]\n",
    "    ax.legend(handles=legend_elements, loc='center left')\n",
    "    ax.set_facecolor('white')\n",
    "    plt.axis('off');\n",
    "    plt.title(\"%s-%s-%s\" %(column_name[-2:],column_name[4:-2],column_name[:4]));\n",
    "    if dpi< 200:\n",
    "        plt.savefig('maps_for_gif/%s.jpg' %column_name, bbox_inches = 'tight',pad_inches = 0, dpi=dpi);\n",
    "    else:\n",
    "        plt.savefig('most_recent_map.jpg', bbox_inches = 'tight',pad_inches = 0, dpi=dpi);\n",
    "    if show_plot:\n",
    "        plt.show()\n",
    "    plt.close()\n",
    "interact(create_world_map, datenr=widgets.IntSlider(min=1, max=len(date_cols), step=1, value=1),show_plot=fixed(True),dpi=fixed(100));"
   ]
  },
  {
   "cell_type": "code",
   "execution_count": null,
   "metadata": {
    "ExecuteTime": {
     "start_time": "2020-03-17T21:07:59.820Z"
    }
   },
   "outputs": [],
   "source": [
    "## Create a world map for every date\n",
    "for i in tqdm(range(1,len(date_cols)+1)):\n",
    "     create_world_map(i, False)\n",
    "\n",
    "## Turn all images into one gif\n",
    "os.remove('movie.gif')\n",
    "filenames=sorted(os.listdir('maps_for_gif'))\n",
    "with imageio.get_writer('movie.gif', mode='I',duration=0.2) as writer:\n",
    "    for filename in tqdm(filenames):\n",
    "        image = imageio.imread('maps_for_gif/'+filename)\n",
    "        writer.append_data(image)\n",
    "## Compress the gif\n",
    "optimize(\"movie.gif\",\"compressed.gif\")"
   ]
  },
  {
   "cell_type": "code",
   "execution_count": null,
   "metadata": {
    "ExecuteTime": {
     "start_time": "2020-03-17T21:07:59.827Z"
    }
   },
   "outputs": [],
   "source": [
    "# Save latest map in HQ\n",
    "create_world_map(len(date_cols),True,dpi=1080)\n"
   ]
  },
  {
   "cell_type": "code",
   "execution_count": null,
   "metadata": {
    "ExecuteTime": {
     "start_time": "2020-03-17T21:07:59.835Z"
    }
   },
   "outputs": [],
   "source": [
    "## Get color over time\n",
    "## Not counting cities\n",
    "from collections import defaultdict\n",
    "\n",
    "\n",
    "dictt = defaultdict(lambda: defaultdict(int))\n",
    "geo_df = geo_df.dropna(subset=['geometry'])\n",
    "geo_df= geo_df.to_crs({'init': 'epsg:3035'})\n",
    "geo_df[\"area\"] = geo_df['geometry'].area / 10**6\n",
    "for i in tqdm(range(1,len(date_cols)+1)):\n",
    "    column_name = date_cols[i-1]\n",
    "    for c in colors:\n",
    "        dictt[column_name][c] = geo_df[(geo_df[column_name] == c)& (geo_df['city']==\"\")][\"area\"].sum()\n",
    "\n",
    "area_df = pd.DataFrame(dictt).T[colors]\n",
    "area_df = area_df.divide(area_df.sum(axis=1), axis=0)\n",
    "ax = area_df.plot.area(colors=colors,legend=False)\n",
    "ax.set_ylim((0,1))\n",
    "ax.set_xticks([n for n,x in enumerate(area_df.index) if x.endswith('01')])\n",
    "ax.set_xticklabels([x for n,x in enumerate(area_df.index) if x.endswith('01')])\n",
    "plt.title(\"Area by travel advice over time\");\n",
    "    \n",
    "plt.savefig('area_over_time.jpg', bbox_inches = 'tight',pad_inches = 0, dpi=1080);"
   ]
  },
  {
   "cell_type": "code",
   "execution_count": null,
   "metadata": {},
   "outputs": [],
   "source": []
  }
 ],
 "metadata": {
  "hide_input": false,
  "kernelspec": {
   "display_name": "Python 3",
   "language": "python",
   "name": "python3"
  },
  "language_info": {
   "codemirror_mode": {
    "name": "ipython",
    "version": 3
   },
   "file_extension": ".py",
   "mimetype": "text/x-python",
   "name": "python",
   "nbconvert_exporter": "python",
   "pygments_lexer": "ipython3",
   "version": "3.7.5"
  }
 },
 "nbformat": 4,
 "nbformat_minor": 2
}
