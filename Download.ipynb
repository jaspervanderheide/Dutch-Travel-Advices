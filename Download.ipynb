{
 "cells": [
  {
   "cell_type": "markdown",
   "metadata": {},
   "source": [
    "To-Do:\n",
    "* Add image comparison check\n",
    "* https://superuser.com/questions/312552/will-windows-scheduled-tasks-execute-if-the-computer-was-off-at-the-scheduled-ti"
   ]
  },
  {
   "cell_type": "code",
   "execution_count": 1,
   "metadata": {
    "ExecuteTime": {
     "end_time": "2020-03-12T14:55:28.875777Z",
     "start_time": "2020-03-12T14:55:28.333224Z"
    }
   },
   "outputs": [],
   "source": [
    "import requests\n",
    "import urllib.request\n",
    "from tqdm.notebook import tqdm\n",
    "from bs4 import BeautifulSoup\n",
    "import random\n",
    "import re\n",
    "import os\n",
    "import time\n",
    "import warnings\n",
    "import cv2\n",
    "import numpy as np\n",
    "\n",
    "warnings.filterwarnings(\"ignore\")"
   ]
  },
  {
   "cell_type": "code",
   "execution_count": 2,
   "metadata": {
    "ExecuteTime": {
     "end_time": "2020-03-12T14:58:40.256303Z",
     "start_time": "2020-03-12T14:55:28.877749Z"
    },
    "scrolled": false
   },
   "outputs": [
    {
     "data": {
      "application/vnd.jupyter.widget-view+json": {
       "model_id": "641fe498ee514dfb918d47cdcb8daab4",
       "version_major": 2,
       "version_minor": 0
      },
      "text/plain": [
       "HBox(children=(IntProgress(value=0, max=218), HTML(value='')))"
      ]
     },
     "metadata": {},
     "output_type": "display_data"
    },
    {
     "name": "stdout",
     "output_type": "stream",
     "text": [
      "No map found for: https://www.nederlandwereldwijd.nl/landen/frans-polynesie/reizen/reisadvies\n",
      "No map found for: https://www.nederlandwereldwijd.nl/landen/heilige-stoel/reizen/reisadvies\n",
      "No map found for: https://www.nederlandwereldwijd.nl/landen/kiribati/reizen/reisadvies\n",
      "No map found for: https://www.nederlandwereldwijd.nl/landen/marshalleilanden/reizen/reisadvies\n",
      "No map found for: https://www.nederlandwereldwijd.nl/landen/micronesia/reizen/reisadvies\n",
      "No map found for: https://www.nederlandwereldwijd.nl/landen/sao-tome-en-principe/reizen/reisadvies\n",
      "No map found for: https://www.nederlandwereldwijd.nl/landen/tuvalu/reizen/reisadvies\n",
      "\n"
     ]
    }
   ],
   "source": [
    "url_with_all_countries = \"https://www.nederlandwereldwijd.nl/help/in-welke-taal-communiceert-welk-land\"\n",
    "r = requests.get(url_with_all_countries)\n",
    "html_content = r.text\n",
    "soup = BeautifulSoup(html_content, 'lxml')\n",
    "list_of_kaarten =os.listdir('kaarten/')\n",
    "\n",
    "all_countries = soup.select(\"a[href*=\\/landen\\/]\")\n",
    "for i in tqdm(all_countries):\n",
    "    country_url = i[\"href\"]+\"/reizen/reisadvies\"\n",
    "    if not country_url.startswith(\"https://www.nederlandwereldwijd.nl\"):\n",
    "        country_url = \"https://www.nederlandwereldwijd.nl\"+country_url\n",
    "    if \"macedonie\" in country_url and not \"noord-macedonie\" in country_url:\n",
    "        country_url = country_url.replace(\"macedonie\",\"noord-macedonie\")\n",
    "    r = requests.get(country_url)\n",
    "    html_content = r.text\n",
    "    soup = BeautifulSoup(html_content, 'lxml')\n",
    "    image_url =soup.select_one(\"img[src*=reisadviezen][src*=png]\")\n",
    "    if image_url ==None:\n",
    "        print(\"No map found for: \"+country_url)\n",
    "        continue\n",
    "    image_url = image_url[\"src\"]\n",
    "    date = re.findall(\"Laatst gewijzigd op:&nbsp;(\\d\\d-\\d\\d-\\d\\d\\d\\d)\", html_content)[0]\n",
    "    year = date[-4:]\n",
    "    month = date[3:5]\n",
    "    day = date[:2]\n",
    "    if \"_\" not in image_url:\n",
    "        print(\"No map found for: \"+country_url)\n",
    "        continue\n",
    "    country_name = image_url.split('/')[-1].split('_')[1]\n",
    "    files_of_country = [x for x in list_of_kaarten if country_name+\"_\" in x]\n",
    "    targeturl = \"kaarten/\"+country_name+'_'+year+month+day+\".png\"\n",
    "    if len(files_of_country) > 0:\n",
    "        last_file = max(files_of_country)\n",
    "        with open(targeturl[8:], 'wb') as f:\n",
    "            resp = requests.get(\"https://www.nederlandwereldwijd.nl\"+image_url, verify=False)\n",
    "            f.write(resp.content)\n",
    "        online = cv2.imread(targeturl[8:])\n",
    "        last = cv2.imread(\"kaarten/\"+last_file)\n",
    "        os.remove(targeturl[8:])\n",
    "        if online.shape == last.shape:\n",
    "            difference = cv2.subtract(online, last)        \n",
    "            b, g, r = cv2.split(difference)\n",
    "            if cv2.countNonZero(b) == 0 and cv2.countNonZero(g) == 0 and cv2.countNonZero(r) == 0:\n",
    "                continue\n",
    "    \n",
    "    if not targeturl[8:] in list_of_kaarten:\n",
    "        with open(targeturl, 'wb') as f:\n",
    "            resp = requests.get(\"https://www.nederlandwereldwijd.nl\"+image_url, verify=False)\n",
    "            f.write(resp.content)\n"
   ]
  },
  {
   "cell_type": "code",
   "execution_count": null,
   "metadata": {},
   "outputs": [],
   "source": []
  }
 ],
 "metadata": {
  "hide_input": false,
  "kernelspec": {
   "display_name": "Python 3",
   "language": "python",
   "name": "python3"
  },
  "language_info": {
   "codemirror_mode": {
    "name": "ipython",
    "version": 3
   },
   "file_extension": ".py",
   "mimetype": "text/x-python",
   "name": "python",
   "nbconvert_exporter": "python",
   "pygments_lexer": "ipython3",
   "version": "3.7.5"
  }
 },
 "nbformat": 4,
 "nbformat_minor": 2
}
